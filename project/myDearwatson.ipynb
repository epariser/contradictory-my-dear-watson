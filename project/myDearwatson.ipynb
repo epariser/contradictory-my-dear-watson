{
 "cells": [
  {
   "cell_type": "code",
   "execution_count": 4,
   "metadata": {},
   "outputs": [
    {
     "name": "stdout",
     "output_type": "stream",
     "text": [
      "ID: 5b72532a0b\n",
      "sentences: These are issues that we wrestle with in practice groups of law firms, she said. \n"
     ]
    }
   ],
   "source": [
    "from __future__ import print_function, division\n",
    "import pandas as pd\n",
    "import numpy as np\n",
    "import matplotlib.pyplot as plt\n",
    "from torch.utils.data import Dataset, DataLoader\n",
    "from torchvision import transforms, utils\n",
    "\n",
    "trainingdata = pd.read_csv('data/train.csv')\n",
    "n = 1\n",
    "id = trainingdata.iloc[n, 0]\n",
    "str = trainingdata.iloc[n, 1]\n",
    "hyp = trainingdata.iloc[n, 2]\n",
    "\n",
    "print('ID: {}'.format(id))\n",
    "print('sentences: {}'.format(str))\n"
   ]
  },
  {
   "cell_type": "code",
   "execution_count": 5,
   "metadata": {},
   "outputs": [],
   "source": [
    "class ContradictionsDataset(Dataset):\n",
    "    \"\"\"contradictions dataset.\"\"\"\n",
    "\n",
    "    def __init__(self, csv_file, root_dir, transform=None):\n",
    "        \"\"\"\n",
    "        Args:\n",
    "            csv_file (string): Path to the csv file with annotations.\n",
    "            root_dir (string): Directory with all the images.\n",
    "            transform (callable, optional): Optional transform to be applied\n",
    "                on a sample.\n",
    "        \"\"\"\n",
    "        self.contradictions_set = pd.read_csv(csv_file)\n",
    "        self.root_dir = root_dir\n",
    "        self.transform = transform\n",
    "\n",
    "    def __len__(self):\n",
    "        return len(self.contradictions_set)\n",
    "\n",
    "    def __getitem__(self, idx):\n",
    "        id = self.contradictions_set.iloc[idx, 0]\n",
    "        prem = self.contradictions_set.iloc[idx, 1]\n",
    "        hyp = self.contradictions_set.iloc[idx, 2:]\n",
    "        lang = self.contradictions_set.iloc[idx, 3]\n",
    "        label = self.contradictions_set.iloc[idx, 5]\n",
    "        sample = {'premesis': prem, 'hypothesis': hyp}\n",
    "\n",
    "        if self.transform:\n",
    "            sample = self.transform(sample)\n",
    "\n",
    "        return sample"
   ]
  },
  {
   "cell_type": "code",
   "execution_count": 6,
   "metadata": {},
   "outputs": [
    {
     "name": "stdout",
     "output_type": "stream",
     "text": [
      "0 {'premesis': 'and these comments were considered in formulating the interim rules.', 'hypothesis': hypothesis    The rules developed in the interim were put to...\n",
      "lang_abv                                                     en\n",
      "language                                                English\n",
      "label                                                         0\n",
      "Name: 0, dtype: object}\n",
      "1 {'premesis': 'These are issues that we wrestle with in practice groups of law firms, she said. ', 'hypothesis': hypothesis    Practice groups are not permitted to work on t...\n",
      "lang_abv                                                     en\n",
      "language                                                English\n",
      "label                                                         2\n",
      "Name: 1, dtype: object}\n",
      "2 {'premesis': \"Des petites choses comme celles-là font une différence énorme dans ce que j'essaye de faire.\", 'hypothesis': hypothesis    J'essayais d'accomplir quelque chose.\n",
      "lang_abv                                         fr\n",
      "language                                     French\n",
      "label                                             0\n",
      "Name: 2, dtype: object}\n",
      "3 {'premesis': \"you know they can't really defend themselves like somebody grown uh say my age you know yeah\", 'hypothesis': hypothesis    They can't defend themselves because of their ...\n",
      "lang_abv                                                     en\n",
      "language                                                English\n",
      "label                                                         0\n",
      "Name: 3, dtype: object}\n"
     ]
    }
   ],
   "source": [
    "contradictions_dataset = ContradictionsDataset(csv_file='data/train.csv',\n",
    "                                    root_dir='data/')\n",
    "\n",
    "\n",
    "for i in range(len(contradictions_dataset)):\n",
    "    sample = contradictions_dataset[i]\n",
    "\n",
    "    print(i, sample)\n",
    "\n",
    "    if i == 3:\n",
    "        break"
   ]
  }
 ],
 "metadata": {
  "kernelspec": {
   "display_name": "Python 3",
   "language": "python",
   "name": "python3"
  },
  "language_info": {
   "codemirror_mode": {
    "name": "ipython",
    "version": 3
   },
   "file_extension": ".py",
   "mimetype": "text/x-python",
   "name": "python",
   "nbconvert_exporter": "python",
   "pygments_lexer": "ipython3",
   "version": "3.9.13"
  },
  "orig_nbformat": 4,
  "vscode": {
   "interpreter": {
    "hash": "3c3d477bddffe67bc26f332ca9ff08b703eee10907ad3f6896f30e4c8fd69cab"
   }
  }
 },
 "nbformat": 4,
 "nbformat_minor": 2
}
